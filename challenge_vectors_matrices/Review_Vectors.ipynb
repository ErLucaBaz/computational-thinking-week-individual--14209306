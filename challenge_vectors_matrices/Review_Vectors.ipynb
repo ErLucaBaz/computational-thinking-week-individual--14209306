{
 "cells": [
  {
   "cell_type": "markdown",
   "id": "e906e58b",
   "metadata": {},
   "source": [
    "Welcome to the review of vectors and matrices. Vectors and matrices provide a foundation for various mathematical operations, your understanding of them will be essential for effectively exploring and interpreting real-world social data. By the end of this review, I hope you'll be familiar with basic data manipulation and get a feel for how powerful they can be."
   ]
  },
  {
   "cell_type": "markdown",
   "id": "e44817be",
   "metadata": {},
   "source": [
    "## Learning goals\n",
    "Refresh your knowledge of vectors and matrices:\n",
    "- Vector (column) addition, subtraction, multiplication\n",
    "- Data merging and deleting\n",
    "- Data filtering and grouping"
   ]
  },
  {
   "cell_type": "markdown",
   "id": "6faa8bd0",
   "metadata": {},
   "source": [
    "# Background story"
   ]
  },
  {
   "cell_type": "markdown",
   "id": "1ad4f614",
   "metadata": {},
   "source": [
    "At the end of one year, a trading company has hired you to help them calculate their trading results. The company is connecting to a large number of buyers, each of them has bought a number of products from them. The products of the company are in three different categories: Toys, Decorations and Clothing. For each product, they recorded its price (as Unit_Price in the unit of dollars) and the quantity sold (Sales_Quantity). They also inclueded its price and the quantity sold last year (as Unit_Price_Last_Year and Sales_Quantity_Last_Year). The recorded data is stored in the table \"data_company_A_external.csv\".\n",
    "\n",
    "Use your knowledge of vector manipulation to help them in the following questions.\n",
    "\n",
    "Note: All the data in this file are not real data, the actual situation will be more complicated than this."
   ]
  },
  {
   "cell_type": "code",
   "execution_count": 1,
   "id": "cd584357",
   "metadata": {},
   "outputs": [],
   "source": [
    "import base64\n",
    "import numpy as np\n",
    "import pandas as pd\n",
    "import matplotlib.pyplot as plt"
   ]
  },
  {
   "cell_type": "code",
   "execution_count": 2,
   "id": "6eda4f6b",
   "metadata": {},
   "outputs": [],
   "source": [
    "# Read your data\n",
    "external_df = pd.read_csv('data_company_A_external.csv')"
   ]
  },
  {
   "cell_type": "markdown",
   "id": "8cb7e486",
   "metadata": {},
   "source": [
    "# Bronze medal: Vector (column) addition, multiplication\n",
    "\n",
    "a) As an important parameter of the trading status for this year, they wish they can know their total sales value for this year. The sales value of one product is the unit price ($) times the sales quantity (number). The value of total sales is the value of all product sales combined. And this is exactly the dot product of vectors.\n",
    "\n",
    "In other words, the equations of sales are:\n",
    "\n",
    "#### $\\text{Sales}_{\\text{ for one product}} = \\text{Unit Price} \\times \\text{Sales Quantity}$\n",
    "\n",
    "#### $\\text{Total Sales} = \\text{Sum of sales for all products}$\n",
    "\n",
    "If $V_{\\text{Unit Price}}$ is the vector representing all unit price, and $V_{\\text{Sales Quantity}}$ is the one for sales quantity, the equation will be:\n",
    "\n",
    "### $V_{\\text{Total Sales}} = V_{\\text{Unit Price}} \\cdot V_{\\text{Sales Quantity}}$\n",
    "\n",
    "Can you help them calculate their total sales for this year? (Try to manipulate on the entire column rather than each product)"
   ]
  },
  {
   "cell_type": "code",
   "execution_count": 3,
   "id": "229e6313",
   "metadata": {},
   "outputs": [
    {
     "name": "stdout",
     "output_type": "stream",
     "text": [
      "The total sales this year is: 20348107.40\n"
     ]
    }
   ],
   "source": [
    "# Complete this function to print the total sales\n",
    "def compute_total_sales(df):\n",
    "    unit_price = external_df[\"Unit_Price\"]\n",
    "    sales_quantity = external_df[\"Sales_Quantity\"]\n",
    "    total_sales = np.dot(unit_price, sales_quantity)\n",
    "    pass\n",
    "    return total_sales\n",
    "\n",
    "print(\"The total sales this year is: {:.2f}\".format(compute_total_sales(external_df)))"
   ]
  },
  {
   "cell_type": "code",
   "execution_count": 4,
   "id": "90c21a45-eab8-4f35-bd7d-298932aa4f08",
   "metadata": {},
   "outputs": [
    {
     "name": "stdout",
     "output_type": "stream",
     "text": [
      "def compute_total_sales(df):\n",
      "    total_sales = df['Unit_Price'].dot(df['Sales_Quantity'])\n",
      "    return total_sales\n",
      "\n",
      "The total sales this year is: 20348107.40\n"
     ]
    }
   ],
   "source": [
    "# Run the following code to show one of the possible answer\n",
    "print(base64.b64decode(\"ZGVmIGNvbXB1dGVfdG90YWxfc2FsZXMoZGYpOgogICAgdG90YWxfc2FsZXMgPSBkZlsnVW5pdF9QcmljZSddLmRvdChkZlsnU2FsZXNfUXVhbnRpdHknXSkKICAgIHJldHVybiB0b3RhbF9zYWxlcwoKVGhlIHRvdGFsIHNhbGVzIHRoaXMgeWVhciBpczogMjAzNDgxMDcuNDA=\").decode())"
   ]
  },
  {
   "cell_type": "markdown",
   "id": "9cdc0d28-c9e5-424d-85c6-a8dc12257198",
   "metadata": {},
   "source": [
    "b) Their data also contains information from last year. So we can calculate growth and growth rate of total sales compared to last year.\n",
    "\n",
    "The growth and growth rate are parameters that describes how much a particular variable, like total sales here, has grown over a period of time. Growth of total sales is calculated by subtracting the total sales of the previous year from the total sales of the current year. It answers the question, \"By how much did our sales figures change when compared to last year?\"\n",
    "\n",
    "Mathematically, the formula to calculate sales growth is:\n",
    "\n",
    "$ \\text{Growth} = \\text{Total Sales This Year} - \\text{Total Sales Last Year} $\n",
    "\n",
    "And growth rate is typically expressed as a percentage of the initial value and can be calculated using the formula:\n",
    "\n",
    "$ \\text{Growth Rate} = \\left( \\frac{{\\text{Growth}}}{{\\text{Total Sales Last Year}}} \\right) \\times 100 $\n",
    "\n",
    "Can you help them calculate what the growth and growth rate?"
   ]
  },
  {
   "cell_type": "code",
   "execution_count": 5,
   "id": "5028e108",
   "metadata": {},
   "outputs": [
    {
     "name": "stdout",
     "output_type": "stream",
     "text": [
      "Growth: 137616.03\n",
      "Growth Rate: 0.68 %\n"
     ]
    }
   ],
   "source": [
    "# Complete these two function to print the growth and growth rate\n",
    "\n",
    "unit_price_last = external_df[\"Unit_Price_Last_Year\"]\n",
    "sales_quantity_last = external_df[\"Sales_Quantity_Last_Year\"]\n",
    "total_sales_last = np.dot(unit_price_last, sales_quantity_last)\n",
    "\n",
    "def compute_growth(df):\n",
    "    \n",
    "    unit_price = df[\"Unit_Price\"]\n",
    "    sales_quantity = df[\"Sales_Quantity\"]\n",
    "    total_sales = np.dot(unit_price, sales_quantity)\n",
    "    \n",
    "    pass\n",
    "    return total_sales - total_sales_last\n",
    "\n",
    "def compute_growth_rate(df):\n",
    "    \n",
    "    pass\n",
    "    return (compute_growth(external_df)/total_sales_last)*100\n",
    "\n",
    "print(\"Growth: {:.2f}\".format( compute_growth(external_df)))\n",
    "print(\"Growth Rate: {:.2f} %\".format( compute_growth_rate(external_df)))"
   ]
  },
  {
   "cell_type": "markdown",
   "id": "50c09e47",
   "metadata": {},
   "source": [
    "# Silver medal: Database merging and deleting\n",
    "\n",
    "a) In a further step, the company wanted to know how much money it had made this year. For this purpose, they provide another internal dataset for this year that captures the profit margin for each product, the promotional inputs they spend, and fixed costs as the sum of other expenses.\n",
    "\n",
    "The equation for the total profit is:\n",
    "\n",
    "### $\\text{Total Profit} = \\sum \\left( \\text{Sales} \\times \\text{Profit Margin} - \\text{Fixed Costs} \\right)$\n",
    "\n",
    "The sales here is the sales for one prodoct, and the summation sumes over all products.\n",
    "\n",
    "Can you combine these two sets of data into one and calculate the total profit?"
   ]
  },
  {
   "cell_type": "code",
   "execution_count": 6,
   "id": "7bf0b45c-1f80-497d-a754-569e0c5e7070",
   "metadata": {},
   "outputs": [],
   "source": [
    "# You may need to import the internal data\n",
    "internal_df= pd.read_csv('data_company_A_internal.csv')"
   ]
  },
  {
   "cell_type": "code",
   "execution_count": 7,
   "id": "9993a907-0eae-4922-ad3d-2c3df5d81557",
   "metadata": {},
   "outputs": [
    {
     "data": {
      "text/html": [
       "<div>\n",
       "<style scoped>\n",
       "    .dataframe tbody tr th:only-of-type {\n",
       "        vertical-align: middle;\n",
       "    }\n",
       "\n",
       "    .dataframe tbody tr th {\n",
       "        vertical-align: top;\n",
       "    }\n",
       "\n",
       "    .dataframe thead th {\n",
       "        text-align: right;\n",
       "    }\n",
       "</style>\n",
       "<table border=\"1\" class=\"dataframe\">\n",
       "  <thead>\n",
       "    <tr style=\"text-align: right;\">\n",
       "      <th></th>\n",
       "      <th>Buyer_ID</th>\n",
       "      <th>Product_Index</th>\n",
       "      <th>Category</th>\n",
       "      <th>Unit_Price</th>\n",
       "      <th>Sales_Quantity</th>\n",
       "      <th>Unit_Price_Last_Year</th>\n",
       "      <th>Sales_Quantity_Last_Year</th>\n",
       "      <th>Profit_Margin</th>\n",
       "      <th>Promotional_Input</th>\n",
       "      <th>Fixed_Costs</th>\n",
       "    </tr>\n",
       "  </thead>\n",
       "  <tbody>\n",
       "    <tr>\n",
       "      <th>0</th>\n",
       "      <td>KISSJ</td>\n",
       "      <td>15796</td>\n",
       "      <td>Decorations</td>\n",
       "      <td>0.93</td>\n",
       "      <td>13585</td>\n",
       "      <td>0.93</td>\n",
       "      <td>13585</td>\n",
       "      <td>0.189</td>\n",
       "      <td>12559</td>\n",
       "      <td>378.59</td>\n",
       "    </tr>\n",
       "    <tr>\n",
       "      <th>1</th>\n",
       "      <td>KISSJ</td>\n",
       "      <td>15797</td>\n",
       "      <td>Decorations</td>\n",
       "      <td>2.31</td>\n",
       "      <td>7980</td>\n",
       "      <td>2.31</td>\n",
       "      <td>7980</td>\n",
       "      <td>0.049</td>\n",
       "      <td>4368</td>\n",
       "      <td>552.38</td>\n",
       "    </tr>\n",
       "    <tr>\n",
       "      <th>2</th>\n",
       "      <td>KISSJ</td>\n",
       "      <td>15798</td>\n",
       "      <td>Toys</td>\n",
       "      <td>12.18</td>\n",
       "      <td>2153</td>\n",
       "      <td>12.18</td>\n",
       "      <td>2153</td>\n",
       "      <td>0.154</td>\n",
       "      <td>4797</td>\n",
       "      <td>785.81</td>\n",
       "    </tr>\n",
       "    <tr>\n",
       "      <th>3</th>\n",
       "      <td>KISSJ</td>\n",
       "      <td>15799</td>\n",
       "      <td>Toys</td>\n",
       "      <td>1.46</td>\n",
       "      <td>21601</td>\n",
       "      <td>1.46</td>\n",
       "      <td>21601</td>\n",
       "      <td>0.062</td>\n",
       "      <td>16114</td>\n",
       "      <td>945.05</td>\n",
       "    </tr>\n",
       "    <tr>\n",
       "      <th>4</th>\n",
       "      <td>KISSJ</td>\n",
       "      <td>15800</td>\n",
       "      <td>Decorations</td>\n",
       "      <td>4.23</td>\n",
       "      <td>9513</td>\n",
       "      <td>4.23</td>\n",
       "      <td>9513</td>\n",
       "      <td>0.027</td>\n",
       "      <td>14718</td>\n",
       "      <td>1205.82</td>\n",
       "    </tr>\n",
       "    <tr>\n",
       "      <th>...</th>\n",
       "      <td>...</td>\n",
       "      <td>...</td>\n",
       "      <td>...</td>\n",
       "      <td>...</td>\n",
       "      <td>...</td>\n",
       "      <td>...</td>\n",
       "      <td>...</td>\n",
       "      <td>...</td>\n",
       "      <td>...</td>\n",
       "      <td>...</td>\n",
       "    </tr>\n",
       "    <tr>\n",
       "      <th>615</th>\n",
       "      <td>UFNJI</td>\n",
       "      <td>15894</td>\n",
       "      <td>Toys</td>\n",
       "      <td>12.21</td>\n",
       "      <td>3676</td>\n",
       "      <td>12.21</td>\n",
       "      <td>3676</td>\n",
       "      <td>0.038</td>\n",
       "      <td>12604</td>\n",
       "      <td>2001.68</td>\n",
       "    </tr>\n",
       "    <tr>\n",
       "      <th>616</th>\n",
       "      <td>UFNJI</td>\n",
       "      <td>15895</td>\n",
       "      <td>Decorations</td>\n",
       "      <td>2.61</td>\n",
       "      <td>13367</td>\n",
       "      <td>2.61</td>\n",
       "      <td>13367</td>\n",
       "      <td>0.011</td>\n",
       "      <td>10713</td>\n",
       "      <td>1555.88</td>\n",
       "    </tr>\n",
       "    <tr>\n",
       "      <th>617</th>\n",
       "      <td>UFNJI</td>\n",
       "      <td>15896</td>\n",
       "      <td>Decorations</td>\n",
       "      <td>3.11</td>\n",
       "      <td>15458</td>\n",
       "      <td>3.11</td>\n",
       "      <td>15458</td>\n",
       "      <td>0.023</td>\n",
       "      <td>18885</td>\n",
       "      <td>2143.96</td>\n",
       "    </tr>\n",
       "    <tr>\n",
       "      <th>618</th>\n",
       "      <td>UFNJI</td>\n",
       "      <td>15897</td>\n",
       "      <td>Decorations</td>\n",
       "      <td>1.45</td>\n",
       "      <td>9923</td>\n",
       "      <td>1.45</td>\n",
       "      <td>9923</td>\n",
       "      <td>0.027</td>\n",
       "      <td>3473</td>\n",
       "      <td>641.67</td>\n",
       "    </tr>\n",
       "    <tr>\n",
       "      <th>619</th>\n",
       "      <td>UFNJI</td>\n",
       "      <td>15898</td>\n",
       "      <td>Toys</td>\n",
       "      <td>0.63</td>\n",
       "      <td>8576</td>\n",
       "      <td>0.63</td>\n",
       "      <td>8576</td>\n",
       "      <td>0.066</td>\n",
       "      <td>1735</td>\n",
       "      <td>240.95</td>\n",
       "    </tr>\n",
       "  </tbody>\n",
       "</table>\n",
       "<p>620 rows × 10 columns</p>\n",
       "</div>"
      ],
      "text/plain": [
       "    Buyer_ID  Product_Index     Category  Unit_Price  Sales_Quantity  \\\n",
       "0      KISSJ          15796  Decorations        0.93           13585   \n",
       "1      KISSJ          15797  Decorations        2.31            7980   \n",
       "2      KISSJ          15798         Toys       12.18            2153   \n",
       "3      KISSJ          15799         Toys        1.46           21601   \n",
       "4      KISSJ          15800  Decorations        4.23            9513   \n",
       "..       ...            ...          ...         ...             ...   \n",
       "615    UFNJI          15894         Toys       12.21            3676   \n",
       "616    UFNJI          15895  Decorations        2.61           13367   \n",
       "617    UFNJI          15896  Decorations        3.11           15458   \n",
       "618    UFNJI          15897  Decorations        1.45            9923   \n",
       "619    UFNJI          15898         Toys        0.63            8576   \n",
       "\n",
       "     Unit_Price_Last_Year  Sales_Quantity_Last_Year  Profit_Margin  \\\n",
       "0                    0.93                     13585          0.189   \n",
       "1                    2.31                      7980          0.049   \n",
       "2                   12.18                      2153          0.154   \n",
       "3                    1.46                     21601          0.062   \n",
       "4                    4.23                      9513          0.027   \n",
       "..                    ...                       ...            ...   \n",
       "615                 12.21                      3676          0.038   \n",
       "616                  2.61                     13367          0.011   \n",
       "617                  3.11                     15458          0.023   \n",
       "618                  1.45                      9923          0.027   \n",
       "619                  0.63                      8576          0.066   \n",
       "\n",
       "     Promotional_Input  Fixed_Costs  \n",
       "0                12559       378.59  \n",
       "1                 4368       552.38  \n",
       "2                 4797       785.81  \n",
       "3                16114       945.05  \n",
       "4                14718      1205.82  \n",
       "..                 ...          ...  \n",
       "615              12604      2001.68  \n",
       "616              10713      1555.88  \n",
       "617              18885      2143.96  \n",
       "618               3473       641.67  \n",
       "619               1735       240.95  \n",
       "\n",
       "[620 rows x 10 columns]"
      ]
     },
     "metadata": {},
     "output_type": "display_data"
    }
   ],
   "source": [
    "# You can combine these two sets of data here\n",
    "merged_df = external_df.merge(internal_df,on= \"Product_Index\")\n",
    "display(merged_df)"
   ]
  },
  {
   "cell_type": "code",
   "execution_count": 8,
   "id": "7a643cb0",
   "metadata": {},
   "outputs": [
    {
     "name": "stdout",
     "output_type": "stream",
     "text": [
      "Total Profit: 847231.27\n"
     ]
    }
   ],
   "source": [
    "# Start to calculate the total profit\n",
    "def compute_total_profit(merged_df):\n",
    "    merged_df[\"Profit\"]=merged_df[\"Unit_Price\"]*merged_df[\"Sales_Quantity\"]*merged_df[\"Profit_Margin\"] - merged_df[\"Fixed_Costs\"]\n",
    "    pass\n",
    "    return merged_df[\"Profit\"].sum()\n",
    "\n",
    "print(f\"Total Profit: {compute_total_profit(merged_df):.2f}\")"
   ]
  },
  {
   "cell_type": "markdown",
   "id": "265d6ca4",
   "metadata": {},
   "source": [
    "b) Two buyers (buyer IDs: \"IFKKSE\" and \"IFYWAB\") cancelled their orders on short notice. In this case we would like to delete the corresponding products and calculate the new profit."
   ]
  },
  {
   "cell_type": "code",
   "execution_count": 9,
   "id": "af76ab21",
   "metadata": {},
   "outputs": [
    {
     "name": "stdout",
     "output_type": "stream",
     "text": [
      "New Profit: 771140.45\n"
     ]
    },
    {
     "name": "stderr",
     "output_type": "stream",
     "text": [
      "C:\\Users\\lucab\\AppData\\Local\\Temp\\ipykernel_15272\\3603923159.py:3: SettingWithCopyWarning: \n",
      "A value is trying to be set on a copy of a slice from a DataFrame.\n",
      "Try using .loc[row_indexer,col_indexer] = value instead\n",
      "\n",
      "See the caveats in the documentation: https://pandas.pydata.org/pandas-docs/stable/user_guide/indexing.html#returning-a-view-versus-a-copy\n",
      "  merged_df[\"Profit\"]=merged_df[\"Unit_Price\"]*merged_df[\"Sales_Quantity\"]*merged_df[\"Profit_Margin\"] - merged_df[\"Fixed_Costs\"]\n"
     ]
    }
   ],
   "source": [
    "# Start to calculate new profit after removing certain buyers\n",
    "cancelled_buyers = [\"IFKKSE\", \"IFYWAB\"]\n",
    "def compute_profit_delete(df):\n",
    "    \n",
    "    filtered_df = df[~df[\"Buyer_ID\"].isin(cancelled_buyers)]\n",
    "    pass\n",
    "    return compute_total_profit(filtered_df)\n",
    "\n",
    "print(f\"New Profit: {compute_profit_delete(merged_df):.2f}\")"
   ]
  },
  {
   "cell_type": "markdown",
   "id": "a033601a",
   "metadata": {},
   "source": [
    "c) While in practice, it is often not possible to simply delete entries from the database. Technically, this can cause problems for other functions that depend on the entry. And in the commercial sector, there are often additional trading rules to solve these problems.\n",
    "\n",
    "Now let's assume that a common treatment taken by this company is to return the products to the manufacturer. And when they return the corresponding products to the manufacturer, the manufacturer refunds them only 80% of the unit price.\n",
    "\n",
    "Can you calculate the profit in this case? Do you need to re-import the database when you complete this step?"
   ]
  },
  {
   "cell_type": "code",
   "execution_count": 10,
   "id": "28100311",
   "metadata": {},
   "outputs": [
    {
     "name": "stderr",
     "output_type": "stream",
     "text": [
      "C:\\Users\\lucab\\AppData\\Local\\Temp\\ipykernel_15272\\2696653486.py:7: SettingWithCopyWarning: \n",
      "A value is trying to be set on a copy of a slice from a DataFrame.\n",
      "Try using .loc[row_indexer,col_indexer] = value instead\n",
      "\n",
      "See the caveats in the documentation: https://pandas.pydata.org/pandas-docs/stable/user_guide/indexing.html#returning-a-view-versus-a-copy\n",
      "  df[\"Profit_After_Return\"] = ((df[\"Unit_Price\"] * (refund_rate)) * df[\"Sales_Quantity\"] * df[\"Profit_Margin\"]) - df[\"Fixed_Costs\"]\n"
     ]
    },
    {
     "data": {
      "text/plain": [
       "191    868.802000\n",
       "192   -345.818632\n",
       "193    -51.597104\n",
       "194   -139.923600\n",
       "195   -366.611760\n",
       "          ...    \n",
       "329   -474.262000\n",
       "330    845.418000\n",
       "331   -185.371736\n",
       "332    254.967712\n",
       "333    -10.856752\n",
       "Name: Profit_After_Return, Length: 91, dtype: float64"
      ]
     },
     "metadata": {},
     "output_type": "display_data"
    },
    {
     "name": "stdout",
     "output_type": "stream",
     "text": [
      "Profit with Adjustments: 814898.77\n"
     ]
    },
    {
     "name": "stderr",
     "output_type": "stream",
     "text": [
      "C:\\Users\\lucab\\AppData\\Local\\Temp\\ipykernel_15272\\3603923159.py:3: SettingWithCopyWarning: \n",
      "A value is trying to be set on a copy of a slice from a DataFrame.\n",
      "Try using .loc[row_indexer,col_indexer] = value instead\n",
      "\n",
      "See the caveats in the documentation: https://pandas.pydata.org/pandas-docs/stable/user_guide/indexing.html#returning-a-view-versus-a-copy\n",
      "  merged_df[\"Profit\"]=merged_df[\"Unit_Price\"]*merged_df[\"Sales_Quantity\"]*merged_df[\"Profit_Margin\"] - merged_df[\"Fixed_Costs\"]\n"
     ]
    }
   ],
   "source": [
    "# Start to calculate profit with refunds from manufacturer\n",
    "refund_rate = 0.80\n",
    "filtered_df_ret = merged_df[merged_df[\"Buyer_ID\"].isin(cancelled_buyers)]\n",
    "filtered_df = merged_df[~merged_df[\"Buyer_ID\"].isin(cancelled_buyers)]\n",
    "\n",
    "def compute_profit_refund(df):\n",
    "    df[\"Profit_After_Return\"] = ((df[\"Unit_Price\"] * (refund_rate)) * df[\"Sales_Quantity\"] * df[\"Profit_Margin\"]) - df[\"Fixed_Costs\"]\n",
    "    display(df[\"Profit_After_Return\"])\n",
    "    pass\n",
    "    return df[\"Profit_After_Return\"].sum() + compute_total_profit(filtered_df)\n",
    "\n",
    "print(f\"Profit with Adjustments: {compute_profit_refund(filtered_df_ret):.2f}\")"
   ]
  },
  {
   "cell_type": "markdown",
   "id": "80137b3e",
   "metadata": {},
   "source": [
    "# Gold medal: Data filtering and grouping\n",
    "\n",
    "a) We would like to discover further information hidden in the data. Can you plot sales against promotional inputs and check if some kind of pattern exists? \n",
    "\n",
    "If you have found some patterns, you can move on to the next question. If not, at the end of this content (the part marked by *) we have provided two hints for you to use at your leisure.\n",
    "\n",
    "(Note again, the patterns in this question is not the actual law of the market.)"
   ]
  },
  {
   "cell_type": "code",
   "execution_count": 11,
   "id": "a9839c22",
   "metadata": {},
   "outputs": [
    {
     "data": {
      "text/plain": [
       "<matplotlib.collections.PathCollection at 0x29dffe0d3c0>"
      ]
     },
     "execution_count": 11,
     "metadata": {},
     "output_type": "execute_result"
    },
    {
     "data": {
      "image/png": "[encoded data removed]",
      "text/plain": [
       "<Figure size 640x480 with 1 Axes>"
      ]
     },
     "metadata": {},
     "output_type": "display_data"
    }
   ],
   "source": [
    "plt.scatter(merged_df[\"Promotional_Input\"],merged_df[\"Sales_Quantity\"]*merged_df[\"Unit_Price\"])"
   ]
  },
  {
   "cell_type": "code",
   "execution_count": 12,
   "id": "e13965cf",
   "metadata": {},
   "outputs": [
    {
     "data": {
      "text/plain": [
       "0.035    20\n",
       "0.031    19\n",
       "0.033    19\n",
       "0.043    17\n",
       "0.030    16\n",
       "         ..\n",
       "0.164     1\n",
       "0.191     1\n",
       "0.251     1\n",
       "0.172     1\n",
       "0.066     1\n",
       "Name: Profit_Margin, Length: 182, dtype: int64"
      ]
     },
     "execution_count": 12,
     "metadata": {},
     "output_type": "execute_result"
    }
   ],
   "source": [
    "merged_df.columns\n",
    "merged_df[\"Category\"].value_counts()\n",
    "types_prod=[\"Decorations\",\"Toys\",\"Clothing\"]\n",
    "merged_df[\"Profit_Margin\"].value_counts()"
   ]
  },
  {
   "cell_type": "code",
   "execution_count": 13,
   "id": "4d8f12db",
   "metadata": {},
   "outputs": [],
   "source": [
    "\n",
    "# Calculate mean and standard deviation of profit margins\n",
    "mean_profit_margin = np.mean(merged_df[\"Profit_Margin\"])\n",
    "std_dev_profit_margin = np.std(merged_df[\"Profit_Margin\"])\n",
    "\n",
    "# Calculate Z-scores for profit margins\n",
    "merged_df[\"Z_Score\"] = (merged_df[\"Profit_Margin\"] - mean_profit_margin) / std_dev_profit_margin\n",
    "\n",
    "# Define a Z-score threshold for outliers (e.g., Z-score > 2 or Z-score < -2)\n",
    "z_score_threshold = 2\n",
    "\n",
    "# Filter out outliers\n",
    "gold_df = merged_df[abs(merged_df[\"Z_Score\"]) <= z_score_threshold]"
   ]
  },
  {
   "cell_type": "code",
   "execution_count": 14,
   "id": "2e122fd6",
   "metadata": {},
   "outputs": [
    {
     "name": "stderr",
     "output_type": "stream",
     "text": [
      "C:\\Users\\lucab\\AppData\\Local\\Temp\\ipykernel_15272\\2493187675.py:2: UserWarning: Boolean Series key will be reindexed to match DataFrame index.\n",
      "  data=gold_df[merged_df[\"Category\"]==x]\n"
     ]
    },
    {
     "data": {
      "image/png": "[encoded data removed]",
      "text/plain": [
       "<Figure size 640x480 with 1 Axes>"
      ]
     },
     "metadata": {},
     "output_type": "display_data"
    }
   ],
   "source": [
    "for x in types_prod:\n",
    "    data=gold_df[merged_df[\"Category\"]==x]\n",
    "    plt.scatter(data[\"Promotional_Input\"],data[\"Sales_Quantity\"]*data[\"Sales_Quantity\"])"
   ]
  },
  {
   "cell_type": "code",
   "execution_count": 15,
   "id": "9d6d8a3b",
   "metadata": {},
   "outputs": [
    {
     "data": {
      "text/plain": [
       "<matplotlib.collections.PathCollection at 0x29d8d0cc2e0>"
      ]
     },
     "execution_count": 15,
     "metadata": {},
     "output_type": "execute_result"
    },
    {
     "data": {
      "image/png": "[encoded data removed]",
      "text/plain": [
       "<Figure size 640x480 with 1 Axes>"
      ]
     },
     "metadata": {},
     "output_type": "display_data"
    }
   ],
   "source": [
    "decora_df=merged_df[merged_df[\"Category\"]==\"Decorations\"]\n",
    "\n",
    "plt.scatter(decora_df[\"Promotional_Input\"],decora_df[\"Sales_Quantity\"]*decora_df[\"Unit_Price\"])"
   ]
  },
  {
   "cell_type": "markdown",
   "id": "31627561",
   "metadata": {},
   "source": [
    "b) According to the observed patterns, if there is a product belonging to the \"Decorations\" category and the company spends $15,000 on its promotional input, how many sales can be expected? (Try to estimate its value, or choose an answer from the following options)"
   ]
  },
  {
   "cell_type": "code",
   "execution_count": 16,
   "id": "c96b671d",
   "metadata": {},
   "outputs": [
    {
     "name": "stdout",
     "output_type": "stream",
     "text": [
      "Estimated sales for a Decorations product with $15,000 in promotional inputs: C\n"
     ]
    }
   ],
   "source": [
    "# start estimating the sales, you could import other package if you want.\n",
    "def estimate_sales(df):\n",
    "    # TO DO\n",
    "    pass\n",
    "    return # TO DO\n",
    "\n",
    "# Select an answer for the sales prediction, pay attention that the dictionary key is capitalized.\n",
    "def select_answer(df):\n",
    "    answer_ranges = {\n",
    "        'A': 'Between 30000 and 34000',\n",
    "        'B': 'Between 34000 and 38000',\n",
    "        'C': 'Between 38000 and 42000',\n",
    "        'D': 'Between 42000 and 46000',\n",
    "        'E': 'Between 46000 and 50000',\n",
    "        'F': 'Between 50000 and 60000',\n",
    "    }\n",
    "    return \"C\"\n",
    "\n",
    "if select_answer(merged_df) is None:\n",
    "    print(\"Estimated sales for a Decorations product with $15,000 in promotional inputs: {:.2f}\".format(estimate_sales(merged_df)))\n",
    "else:\n",
    "    print(\"Estimated sales for a Decorations product with $15,000 in promotional inputs: {:s}\".format(select_answer(merged_df)))"
   ]
  },
  {
   "cell_type": "markdown",
   "id": "4abf85c3",
   "metadata": {},
   "source": [
    "*: Here are two hints for the gold Medal, they will make this task easier. You can try to find the pattern by yourself and then check the hints at some point later."
   ]
  },
  {
   "cell_type": "code",
   "execution_count": 17,
   "id": "b215c0c5-45c8-4abc-87f6-5284b5518c07",
   "metadata": {},
   "outputs": [
    {
     "name": "stdout",
     "output_type": "stream",
     "text": [
      "Hint 1: The table contains all kinds of products of the company, which may also contain special products or products sold through special methods. Such products are characterized by the fact that they will usually have exceptionally high or low profit margins.\n"
     ]
    }
   ],
   "source": [
    "# Run the following code to show hint 1\n",
    "print(base64.b64decode(\"SGludCAxOiBUaGUgdGFibGUgY29udGFpbnMgYWxsIGtpbmRzIG9mIHByb2R1Y3RzIG9mIHRoZSBjb21wYW55LCB3aGljaCBtYXkgYWxzbyBjb250YWluIHNwZWNpYWwgcHJvZHVjdHMgb3IgcHJvZHVjdHMgc29sZCB0aHJvdWdoIHNwZWNpYWwgbWV0aG9kcy4gU3VjaCBwcm9kdWN0cyBhcmUgY2hhcmFjdGVyaXplZCBieSB0aGUgZmFjdCB0aGF0IHRoZXkgd2lsbCB1c3VhbGx5IGhhdmUgZXhjZXB0aW9uYWxseSBoaWdoIG9yIGxvdyBwcm9maXQgbWFyZ2lucy4=\").decode())"
   ]
  },
  {
   "cell_type": "code",
   "execution_count": 18,
   "id": "170f6f35-86b9-459f-a2e2-d4aa8449d517",
   "metadata": {},
   "outputs": [
    {
     "name": "stdout",
     "output_type": "stream",
     "text": [
      "Hint 2: Different product categories have different markets and may have different patterns.\n"
     ]
    }
   ],
   "source": [
    "# Run the following code to show hint 2\n",
    "print(base64.b64decode(\"SGludCAyOiBEaWZmZXJlbnQgcHJvZHVjdCBjYXRlZ29yaWVzIGhhdmUgZGlmZmVyZW50IG1hcmtldHMgYW5kIG1heSBoYXZlIGRpZmZlcmVudCBwYXR0ZXJucy4=\").decode())"
   ]
  }
 ],
 "metadata": {
  "kernelspec": {
   "display_name": "Python 3",
   "language": "python",
   "name": "python3"
  },
  "language_info": {
   "codemirror_mode": {
    "name": "ipython",
    "version": 3
   },
   "file_extension": ".py",
   "mimetype": "text/x-python",
   "name": "python",
   "nbconvert_exporter": "python",
   "pygments_lexer": "ipython3",
   "version": "3.10.6"
  }
 },
 "nbformat": 4,
 "nbformat_minor": 5
}
